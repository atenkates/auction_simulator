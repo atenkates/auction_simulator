import pandas as pd
import numpy as np
import seaborn as sns
import math
import matplotlib.pyplot as plt
from IPython.core.pylabtools import figsize
import statsmodels.api as sm
import datetime as dt

sns.set_style('darkgrid')
figsize(20, 5)
plt.rcParams.update({'font.size': 14})
